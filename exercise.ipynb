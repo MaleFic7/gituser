{
 "cells": [
  {
   "cell_type": "code",
   "execution_count": 16,
   "metadata": {},
   "outputs": [
    {
     "name": "stdout",
     "output_type": "stream",
     "text": [
      "\n",
      "*\n",
      "***\n",
      "*****\n",
      "***\n",
      "*\n",
      "\n"
     ]
    }
   ],
   "source": [
    "print (\"\"\"\n",
    "*\n",
    "***\n",
    "*****\n",
    "***\n",
    "*\n",
    "\"\"\"\n",
    ")"
   ]
  },
  {
   "cell_type": "code",
   "execution_count": 26,
   "metadata": {},
   "outputs": [
    {
     "name": "stdout",
     "output_type": "stream",
     "text": [
      "good bye\n",
      "My age is 18\n",
      "My age is18\n"
     ]
    }
   ],
   "source": [
    "str1 = 'good'\n",
    "str2 = 'bye'\n",
    "print (str1 +' ' +str2)\n",
    "num = 18\n",
    "print ('My age is' + ' '+str(num))\n",
    "num = 18\n",
    "print ('My age is %d'%num)"
   ]
  },
  {
   "cell_type": "code",
   "execution_count": 1,
   "metadata": {},
   "outputs": [
    {
     "name": "stdout",
     "output_type": "stream",
     "text": [
      "Guess what I think\n",
      "20\n",
      "20 is too small\n",
      "100\n",
      "100 is too big\n",
      "15\n",
      "15 is too small\n",
      "30\n",
      "30 is too small\n",
      "40\n",
      "40 is too small\n",
      "50\n",
      "50 is too small\n",
      "80\n",
      "80 is too big\n",
      "60\n",
      "60 is too small\n",
      "70\n",
      "bingo!\n"
     ]
    }
   ],
   "source": [
    "from random import randint\n",
    "num = randint (0,100)\n",
    "print (\"Guess what I think\")\n",
    "a=1\n",
    "while a==1:\n",
    "    answer = int(input())\n",
    "    if answer<num:\n",
    "        print (\"%d is too small\"%answer)\n",
    "    if answer>num:\n",
    "        print (\"%d is too big\"%answer)\n",
    "    if answer==num:\n",
    "        print (\"bingo!\")\n",
    "        a=0\n",
    "    "
   ]
  },
  {
   "cell_type": "code",
   "execution_count": 11,
   "metadata": {},
   "outputs": [
    {
     "name": "stdout",
     "output_type": "stream",
     "text": [
      "*\n",
      "**\n",
      "***\n",
      "****\n",
      "*****\n"
     ]
    }
   ],
   "source": [
    "for i in range(0, 5):\n",
    "    for j in range(0, i+1):\n",
    "        print ('*',end='')\n",
    "    print()"
   ]
  },
  {
   "cell_type": "code",
   "execution_count": 23,
   "metadata": {},
   "outputs": [
    {
     "name": "stdout",
     "output_type": "stream",
     "text": [
      "he says Hello!\n"
     ]
    }
   ],
   "source": [
    "def sayHello(someone):\n",
    "    print (someone + ' says Hello!')\n",
    "x=str(1)\n",
    "sayHello('he')"
   ]
  },
  {
   "cell_type": "code",
   "execution_count": 26,
   "metadata": {},
   "outputs": [
    {
     "name": "stdout",
     "output_type": "stream",
     "text": [
      "10\n"
     ]
    }
   ],
   "source": [
    "def plus(num1, num2):\n",
    "    return num1+num2\n",
    "a=plus(3,7)\n",
    "print (a)"
   ]
  },
  {
   "cell_type": "code",
   "execution_count": null,
   "metadata": {},
   "outputs": [],
   "source": [
    "def isEqual(num1, num2):\n",
    "    if num1<num2:\n",
    "        print (\"%d is too small\"%num1)\n",
    "        return False\n",
    "    if num1>num2:\n",
    "        print (\"%d is too big\"%num1)\n",
    "        return False\n",
    "    if num1==num2:\n",
    "        print ('bingo')\n",
    "        return True\n",
    "from random import randint\n",
    "num = randint(1, 100)\n",
    "print ('Guess what I think?')\n",
    "bingo = False\n",
    "while bingo == False:\n",
    "    answer = int(input())\n",
    "    bingo = isEqual(answer, num)"
   ]
  },
  {
   "cell_type": "code",
   "execution_count": null,
   "metadata": {},
   "outputs": [],
   "source": [
    "print (range(1,10))"
   ]
  },
  {
   "cell_type": "code",
   "execution_count": null,
   "metadata": {},
   "outputs": [
    {
     "name": "stdout",
     "output_type": "stream",
     "text": [
      "==== Round 1 - You Kick! ====\n",
      "Choose one side to shoot:\n",
      "left, center, right\n",
      "left\n",
      "You kicked left\n",
      "Computer saved left\n",
      "Oops...\n",
      "Score: 0(you) - 0(com)\n",
      "\n",
      "==== Round 1 - You Save! ====\n",
      "Choose one side to save:\n",
      "left, center, right\n",
      "center\n",
      "You saved center\n",
      "Computer kicked center\n",
      "Saved!\n",
      "Score: 0(you) - 0(com)\n",
      "\n",
      "==== Round 2 - You Kick! ====\n",
      "Choose one side to shoot:\n",
      "left, center, right\n"
     ]
    }
   ],
   "source": [
    "from random import choice\n",
    "\n",
    "score_you = 0\n",
    "score_com = 0\n",
    "direction = ['left', 'center', 'right']\n",
    "\n",
    "for i in range(5):\n",
    "    print ('==== Round %d - You Kick! ====' % (i+1))\n",
    "    print ('Choose one side to shoot:')\n",
    "    print ('left, center, right')\n",
    "    you = input()\n",
    "    print ('You kicked ' + you)\n",
    "    com = choice(direction)\n",
    "    print ('Computer saved ' + com)\n",
    "    if you != com:\n",
    "        print ('Goal!')\n",
    "        score_you += 1\n",
    "    else:\n",
    "        print ('Oops...')\n",
    "    print ('Score: %d(you) - %d(com)\\n' % (score_you, score_com))\n",
    "\n",
    "    print ('==== Round %d - You Save! ====' % (i+1))\n",
    "    print ('Choose one side to save:')\n",
    "    print ('left, center, right')\n",
    "    you = input()\n",
    "    print ('You saved ' + you)\n",
    "    com = choice(direction)\n",
    "    print ('Computer kicked ' + com)\n",
    "    if you == com:\n",
    "        print ('Saved!')\n",
    "    else:\n",
    "        print ('Oops...')\n",
    "        score_com += 1\n",
    "    print ('Score: %d(you) - %d(com)\\n' % (score_you, score_com))"
   ]
  },
  {
   "cell_type": "code",
   "execution_count": null,
   "metadata": {},
   "outputs": [],
   "source": []
  }
 ],
 "metadata": {
  "kernelspec": {
   "display_name": "Python 3",
   "language": "python",
   "name": "python3"
  },
  "language_info": {
   "codemirror_mode": {
    "name": "ipython",
    "version": 3
   },
   "file_extension": ".py",
   "mimetype": "text/x-python",
   "name": "python",
   "nbconvert_exporter": "python",
   "pygments_lexer": "ipython3",
   "version": "3.6.4"
  }
 },
 "nbformat": 4,
 "nbformat_minor": 2
}
